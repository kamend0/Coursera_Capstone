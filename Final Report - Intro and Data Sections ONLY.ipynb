{
 "cells": [
  {
   "cell_type": "markdown",
   "metadata": {},
   "source": [
    "# Data Science Capstone Project: Bar Crawler\n",
    "\n",
    "*Note: For the most detail and full, actual code used to pull, clean, analyze, and map data, see the 'Capstone Project' notebook. The purpose of this report is to serve as a higher-level, more easily-communicable description of the problem; data; methodology; results; discussion; and review/conclusions.*\n",
    "\n",
    "---"
   ]
  },
  {
   "cell_type": "markdown",
   "metadata": {},
   "source": [
    "## 1. Introduction/Business Problem\n",
    "\n",
    "Consider one of these scenarios:\n",
    "* You are the owner of a travel blog, or\n",
    "* You work for a travel company writing articles, or\n",
    "* You work for a company doing research into travel and/or the New York City night life, or\n",
    "* (A different alternative:) You're a prospective bar or night club owner looking to profit off being in an active nightlife area.\n",
    "\n",
    "Maybe you want to write an article or report on what life was like before COVID-19, or you're prepping some content for all the people planning to travel once it's over. In any case, our goal is to write an \"N Places...\" article, because who doesn't love a good 12 Places to Take a Really Cool Selfie in NYC article?\n",
    "\n",
    "What type of list would be best? Well, why not one that facilitates an adventurous social gathering that invovles a core group and the potential to meet lots of people? The answer is clear: Bar Crawl Spots in NYC! Who doesn't love a good bar crawl?\n",
    "\n",
    "To do this, we want to give some travelers good advice when visiting New York City, but we're not locals, or very well-versed in the night-life. In fact, this writer is from and residing in California. So we want to use data to help us.\n",
    "\n",
    "**Our Problem: What _bar crawl spots_ are there in New York City that we can recommend to prospective travelers?**\n",
    "\n",
    "The answer to this will help us write a great article or report with actual maps of the areas and actual places to go to. Our number of clusters *k* will be the \"N\" bar crawl areas, but the actual value of k will depend on the *quality* of the clusters: do they contain actual bars, and are they close together?; as well as the *quantity*: are regions that could be considered one crawl split up into two, or three? Are several different crawls being lumped into one?\n",
    "\n",
    "---"
   ]
  },
  {
   "cell_type": "markdown",
   "metadata": {},
   "source": [
    "## 2. Data\n",
    "\n",
    "The data necessary for this project is actually quite minimal. We only need three different sources of data, two of which are publicly available through free-to-use APIs.\n",
    "\n",
    "### Source #1: Foursquare (Venues and their Locations)\n",
    "\n",
    "In order to discover bar crawl locations, we needed a substantial amount of actual venues (goal was set to be at least 500). In order to get this data, Foursquare's Places API was utilized. The constraints on the venue data used were fairly minimal: \n",
    "\n",
    "1. Venues must be tagged as a 'Nightlife' venue according to Foursquare's documentation (see: https://developer.foursquare.com/docs/build-with-foursquare/categories/);\n",
    "\n",
    "2. Each venue must be unique (based on name or address);\n",
    "\n",
    "3. Locations must be within New York City (ignore adjacent venues even if they are nearby others within city limits to establish a definite boundary); and\n",
    "\n",
    "4. All venues must have valid latitude/longitude coordinates.\n",
    "\n",
    "For a more detailed description of the methods used to pull and clean the data, see **Methodology**."
   ]
  },
  {
   "cell_type": "markdown",
   "metadata": {},
   "source": [
    "### Source #2: NYU Spacial Data Repository (Neighborhoods in NYC and their Locations)\n",
    "\n",
    "Due to a limitation of the Foursquare Places API which will be discussed in further detail in the Methodology section, it became necessary to have many different latitude/longitude coordinates within NYC. This was made possible by a freely available dataset actually used in the \"Segmenting and Clustering Neighborhoods in New York City\" lab, which comes from the NYU Spacial Data Repository. The data actually used in the lab is from IBM themselves, who very courteously (for the purposes of the lab work) cleaned the data.\n",
    "\n",
    "Link to NYU Spacial Data Repository page: https://geo.nyu.edu/catalog/nyu_2451_34572\n",
    "\n",
    "Link to this course's raw, cleaned dataset: https://cf-courses-data.s3.us.cloud-object-storage.appdomain.cloud/IBMDeveloperSkillsNetwork-DS0701EN-SkillsNetwork/labs/newyork_data.json"
   ]
  },
  {
   "cell_type": "markdown",
   "metadata": {},
   "source": [
    "### Source #3: Folium (Maps of Bar Crawl Spots)\n",
    "\n",
    "Folium was used to generate maps of all discovered venues; all venues, clustered; and individual clusters of venues. Folium is incredibly easy to use, and has all the features we need for this analysis. Much of the code used to plot the venues onto Folium maps was taken from the \"Segmenting and Clustering Neighborhoods in New York City\" lab, and modified to fit the needs of this analysis.\n",
    "\n",
    "Link to Folium's documentation: https://python-visualization.github.io/folium/\n",
    "\n",
    "---"
   ]
  }
 ],
 "metadata": {
  "kernelspec": {
   "display_name": "Python 3",
   "language": "python",
   "name": "python3"
  },
  "language_info": {
   "codemirror_mode": {
    "name": "ipython",
    "version": 3
   },
   "file_extension": ".py",
   "mimetype": "text/x-python",
   "name": "python",
   "nbconvert_exporter": "python",
   "pygments_lexer": "ipython3",
   "version": "3.8.5"
  }
 },
 "nbformat": 4,
 "nbformat_minor": 4
}
