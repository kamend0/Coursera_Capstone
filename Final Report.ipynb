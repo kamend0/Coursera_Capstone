{
 "cells": [
  {
   "cell_type": "markdown",
   "metadata": {},
   "source": [
    "# Data Science Capstone Project: Bar Crawler"
   ]
  },
  {
   "cell_type": "markdown",
   "metadata": {},
   "source": [
    "## 1. Introduction/Business Problem\n",
    "\n",
    "Consider one of these scenarios:\n",
    "* You are the owner of a travel blog, or\n",
    "* You work for a travel company writing articles, or\n",
    "* You work for a company doing research into travel and/or the New York City night life.\n",
    "\n",
    "Maybe you want to write an article or report on what life was like before COVID-19, or you're prepping some content for all the people planning to travel once it's over. In any case, our goal is to write a \"Top N...\" article, because who doesn't love a good Top 12 Places to Take a Selfie in NYC article? (Me. I don't often take selfies outside my house.)\n",
    "\n",
    "What type of Top N list would be best? Well, why not one that facilitates an adventurous social gathering that invovles a core group and the potential to meet lots of people? The answer is clear: Top N Bar Crawl Spots in NYC! Who doesn't love a good bar crawl? (Me. I have actually never done one, and don't really drink, but thought this was a fun idea. Anyway...) \n",
    "\n",
    "To do this, we want to give some travelers good advice when visiting New York City, but we're not locals, or very well-versed in the night-life. In fact, this writer is from and residing in California. So we want to use data to help us.\n",
    "\n",
    "**Our Problem: Where are the top (N) places to do a _bar crawl_ in New York City?**\n",
    "\n",
    "The answer to this will help us write a great article or report with actual maps of the areas and actual places to go to. Our number of clusters *k* will be the \"N\" bar crawl areas, but the actual value of k will depend on the *quality* of the clusters: do they contain actual bars, and are they close together?; as well as the *quantity*: are regions that could be considered one crawl split up into two, or three? Are several different crawls being lumped into one?"
   ]
  },
  {
   "cell_type": "markdown",
   "metadata": {},
   "source": [
    "## 2. Data\n",
    "\n",
    "The only data we *should* need for this is Foursquare for the location data of the bars and lounges in New York City; and for maps, I intend on using Folium to show the clusters scattered across the whole city, as well as more detailed maps of each cluster, or potential bar crawl destinations.\n",
    "\n",
    "The \"correct\" value of k for this project could be very large. NYC is likely to have very many bars in close proximity, and we could even have a lot of flexibility in what we call a \"bar crawl spot\". In addition, there will be no systematic error analysis on the final product due to the nature of the problem; we will have to use heuristics, namely intuition. Once some bar crawl spots have been identified, there are several questions we should be asking: \n",
    "\n",
    "* Would *we* want to walk to each of these bars?\n",
    "* Would that even be feasible? \n",
    "* Would it be enjoyable? \n",
    "* Do the bars and lounges themselves look fun or inviting?\n",
    "* Are they *actually* bars and lounges and not restaurants or even grocery stores that sell alcohol?\n",
    "* Are the price-points of the different bars dramatically different? (Is this data available?)\n",
    "\n",
    "In answering these questions, we will have to put ourselves in the shoes of our audience, and make calls as we see fit.\n",
    "\n",
    "While answering these questions may be difficult to do manually across all of the potential results, analyzing our most promising clusters may be much easier. At the end of the day, we could be happy with a list of the Top 3 or 5 Bar Crawl Spots - and if each of these clusteres contained 10-15 results, manual review of these would not be very difficult.\n",
    "\n",
    "### 2.1 Overview of the Data Required\n",
    "\n",
    "#### Foursquare (Bars & Lounges, Location Data)\n",
    "\n",
    "[Insert section about exploring Foursquare data of bars and lounges in NYC here; show heads and shapes of DataFrames, etc.]\n",
    "\n",
    "#### Folium (Maps of Bar Crawl Spots)\n",
    "\n",
    "[Insert section showing functional map of NYC's bars and lounges found on Foursquare, opine on if it looks like certain clusters emerge or not, on the potential value of k.]"
   ]
  },
  {
   "cell_type": "code",
   "execution_count": null,
   "metadata": {},
   "outputs": [],
   "source": []
  }
 ],
 "metadata": {
  "kernelspec": {
   "display_name": "Python 3",
   "language": "python",
   "name": "python3"
  },
  "language_info": {
   "codemirror_mode": {
    "name": "ipython",
    "version": 3
   },
   "file_extension": ".py",
   "mimetype": "text/x-python",
   "name": "python",
   "nbconvert_exporter": "python",
   "pygments_lexer": "ipython3",
   "version": "3.9.1"
  }
 },
 "nbformat": 4,
 "nbformat_minor": 4
}
